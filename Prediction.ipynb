{
 "cells": [
  {
   "cell_type": "markdown",
   "id": "04b3bf71",
   "metadata": {},
   "source": [
    "# Import Liberaries"
   ]
  },
  {
   "cell_type": "code",
   "execution_count": null,
   "id": "5f4fe2e1",
   "metadata": {},
   "outputs": [],
   "source": [
    "import pandas as pd\n",
    "import numpy as np\n",
    "import pickle\n",
    "from tensorflow.keras.models import load_model"
   ]
  },
  {
   "cell_type": "markdown",
   "id": "2748f675",
   "metadata": {},
   "source": [
    "# Load model"
   ]
  },
  {
   "cell_type": "code",
   "execution_count": null,
   "id": "5cbabccb",
   "metadata": {},
   "outputs": [
    {
     "name": "stderr",
     "output_type": "stream",
     "text": [
      "WARNING:absl:Compiled the loaded model, but the compiled metrics have yet to be built. `model.compile_metrics` will be empty until you train or evaluate the model.\n"
     ]
    }
   ],
   "source": [
    "with open('transfomration_pipeline.pkl', 'rb') as file:\n",
    "     transfomration_pipeline = pickle.load(file)\n",
    "model = load_model('model.h5')"
   ]
  },
  {
   "cell_type": "code",
   "execution_count": null,
   "id": "3f1f88e3",
   "metadata": {},
   "outputs": [],
   "source": [
    "input = {'Age':[30], \n",
    " 'Sex':['Male'], \n",
    " 'Cholesterol':[200], \n",
    " 'Heart Rate':[90], \n",
    " 'Diabetes':[1], \n",
    " 'Family History':[1], \n",
    " 'Smoking':[1], \n",
    " 'Obesity':[1],\n",
    " 'Alcohol Consumption':[1], \n",
    " 'Exercise Hours Per Week':[5], \n",
    " 'Diet':['Unhealthy'],\n",
    " 'Previous Heart Problems':[0], \n",
    " 'Medication Use':[0], \n",
    " 'Stress Level':[5],\n",
    " 'Sedentary Hours Per Day':[8], \n",
    " 'Income':[134000], \n",
    " 'BMI':[20], \n",
    " 'Triglycerides':[200],\n",
    " 'Physical Activity Days Per Week':[1], \n",
    " 'Sleep Hours Per Day':[4], \n",
    " 'Country':['India'],\n",
    " 'BP High Value':[120],\n",
    " 'BP Low Value':[80]\n",
    "}\n",
    "\n",
    "input_df = pd.DataFrame(input)"
   ]
  },
  {
   "cell_type": "code",
   "execution_count": null,
   "id": "fced13cb",
   "metadata": {},
   "outputs": [],
   "source": [
    "transfomration_input_df = transfomration_pipeline.transform(input_df)"
   ]
  },
  {
   "cell_type": "code",
   "execution_count": null,
   "id": "713acfdb",
   "metadata": {},
   "outputs": [
    {
     "name": "stdout",
     "output_type": "stream",
     "text": [
      "\u001b[1m1/1\u001b[0m \u001b[32m━━━━━━━━━━━━━━━━━━━━\u001b[0m\u001b[37m\u001b[0m \u001b[1m0s\u001b[0m 60ms/step\n"
     ]
    }
   ],
   "source": [
    "pred = model.predict(transfomration_input_df)\n",
    "pred_prob = pred[0][0]"
   ]
  },
  {
   "cell_type": "code",
   "execution_count": null,
   "id": "eca15d53",
   "metadata": {},
   "outputs": [
    {
     "data": {
      "text/plain": [
       "0.29788288"
      ]
     },
     "execution_count": 35,
     "metadata": {},
     "output_type": "execute_result"
    }
   ],
   "source": [
    "pred_prob"
   ]
  },
  {
   "cell_type": "code",
   "execution_count": null,
   "id": "37b27cb4",
   "metadata": {},
   "outputs": [],
   "source": []
  }
 ],
 "metadata": {
  "kernelspec": {
   "display_name": ".venv",
   "language": "python",
   "name": "python3"
  },
  "language_info": {
   "codemirror_mode": {
    "name": "ipython",
    "version": 3
   },
   "file_extension": ".py",
   "mimetype": "text/x-python",
   "name": "python",
   "nbconvert_exporter": "python",
   "pygments_lexer": "ipython3",
   "version": "3.12.10"
  }
 },
 "nbformat": 4,
 "nbformat_minor": 5
}
